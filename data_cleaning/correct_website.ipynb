{
 "cells": [
  {
   "cell_type": "code",
   "execution_count": null,
   "id": "5cc6fea7-709d-47da-8e04-725882d79c32",
   "metadata": {},
   "outputs": [
    {
     "name": "stdout",
     "output_type": "stream",
     "text": [
      "b'PK\\x03\\x04\\x14\\x00\\x00\\x00\\x00\\x00\\x07NsZW\\x8em\\xd4\\xd9\\x94\\x01\\x00\\xd9\\x94\\x01\\x00\\x1c\\x00\\x00\\x00Data/PresetImageFill3-18.jpg\\xff\\xd8\\xff\\xe0\\x00\\x10JFIF\\x00\\x01\\x01\\x00\\x00H\\x00H\\x00\\x00\\xff\\xe1\\x00LExif\\x00\\x00MM\\x00*\\x00\\x00\\x00\\x08\\x00\\x01\\x87i\\x00\\x04\\x00\\x00\\x00\\x01\\x00\\x00\\x00\\x1a\\x00\\x00\\x00\\x00\\x00\\x03\\xa0\\x01\\x00\\x03\\x00\\x00\\x00\\x01\\x00\\x01\\x00\\x00\\xa0\\x02\\x00\\x04\\x00\\x00\\x00\\x01\\x00\\x00\\x01\\xf4\\xa0\\x03\\x00\\x04\\x00\\x00\\x00\\x01\\x00\\x00\\x01\\xf4\\x00\\x00\\x00\\x00\\xff\\xed\\x008Photoshop 3.0\\x008BIM\\x04\\x04\\x00\\x00\\x00\\x00\\x00\\x008BIM\\x04%\\x00\\x00\\x00\\x00\\x00\\x10\\xd4\\x1d\\x8c\\xd9\\x8f\\x00\\xb2\\x04\\xe9\\x80\\t\\x98\\xec\\xf8B~\\xff\\xc0\\x00\\x11\\x08\\x01\\xf4\\x01\\xf4\\x03\\x01\"\\x00\\x02\\x11\\x01\\x03\\x11\\x01\\xff\\xc4\\x00\\x1f\\x00\\x00\\x01\\x05\\x01\\x01\\x01\\x01\\x01\\x01\\x00\\x00\\x00\\x00\\x00\\x00\\x00\\x00\\x01\\x02\\x03\\x04\\x05\\x06\\x07\\x08\\t\\n\\x0b\\xff\\xc4\\x00\\xb5\\x10\\x00\\x02\\x01\\x03\\x03\\x02\\x04\\x03\\x05\\x05\\x04\\x04\\x00\\x00\\x01}\\x01\\x02\\x03\\x00\\x04\\x11\\x05\\x12!1A\\x06\\x13Qa\\x07\"q\\x142\\x81\\x91\\xa1\\x08#B\\xb1\\xc1\\x15R\\xd1\\xf0$3br\\x82\\t\\n\\x16\\x17\\x18\\x19\\x1a%&\\'()*456789:CDEFGHIJSTUVWXYZcdefghijstuvwxyz\\x83\\x84\\x85\\x86\\x87\\x88\\x89\\x8a\\x92\\x93\\x94\\x95\\x96\\x97\\x98\\x99\\x9a\\xa2\\xa3\\xa4\\xa5\\xa6\\xa7\\xa8\\xa9\\xaa\\xb2\\xb3\\xb4\\xb5\\xb6\\xb7\\xb8\\xb9\\xba\\xc2\\xc3\\xc4\\xc5\\xc6\\xc7\\xc8\\xc9\\xca\\xd2\\xd3\\xd4\\xd5\\xd6\\xd7\\xd8\\xd9\\xda\\xe1\\xe2\\xe3\\xe4\\xe5\\xe6\\xe7\\xe8\\xe9\\xea\\xf1\\xf2\\xf3\\xf4\\xf5\\xf6\\xf7\\xf8\\xf9\\xfa\\xff\\xc4\\x00\\x1f\\x01\\x00\\x03\\x01\\x01\\x01\\x01\\x01\\x01\\x01\\x01\\x01\\x00\\x00\\x00\\x00\\x00\\x00\\x01\\x02\\x03\\x04\\x05\\x06\\x07\\x08\\t\\n\\x0b\\xff\\xc4\\x00\\xb5\\x11\\x00\\x02\\x01\\x02\\x04\\x04\\x03\\x04\\x07\\x05\\x04\\x04\\x00'\n",
      "  Year(s) Under Review 1972            1973            1974             ...  \\\n",
      "             Countries   PR CL  Status   PR CL  Status   PR CL  Status  ...   \n",
      "0          Afghanistan    4   5     PF    7   6     NF    7   6     NF  ...   \n",
      "1              Albania    7   7     NF    7   7     NF    7   7     NF  ...   \n",
      "2              Algeria    6   6     NF    6   6     NF    6   6     NF  ...   \n",
      "3              Andorra    4   3     PF    4   4     PF    4   4     PF  ...   \n",
      "4               Angola    -   -      -    -   -      -    -   -      -  ...   \n",
      "\n",
      "    2021 2022           2023           2024            \n",
      "  Status   PR CL Status   PR CL Status   PR CL Status  \n",
      "0     NF    7  7     NF    7  7     NF    7  7     NF  \n",
      "1     PF    3  3     PF    3  3     PF    3  3     PF  \n",
      "2     NF    6  5     NF    6  5     NF    6  5     NF  \n",
      "3      F    1  1      F    1  1      F    1  1      F  \n",
      "4     NF    6  5     NF    6  5     NF    6  5     NF  \n",
      "\n",
      "[5 rows x 157 columns]\n"
     ]
    }
   ],
   "source": [
    "import pandas as pd\n",
    "\n",
    "\n",
    "\n",
    "with open(\"the_website_data.csv\", \"rb\") as file:\n",
    "    print(file.read(500))  \n",
    "df = pd.read_excel(\"Country_and_Territory_Ratings_and_Statuses_FIW_1973-2024 (1).xlsx\",  skiprows = 1, header=[0, 1], engine=\"openpyxl\")\n",
    "df.rename(columns= {\"Unnamed: 0_level_1\": \"Countries\"}, inplace= True)\n",
    "print(df.head())\n"
   ]
  },
  {
   "cell_type": "code",
   "execution_count": 4,
   "id": "705b45fd-a5d3-41c4-80e3-a44d7444c1b8",
   "metadata": {},
   "outputs": [
    {
     "data": {
      "text/html": [
       "<div>\n",
       "<style scoped>\n",
       "    .dataframe tbody tr th:only-of-type {\n",
       "        vertical-align: middle;\n",
       "    }\n",
       "\n",
       "    .dataframe tbody tr th {\n",
       "        vertical-align: top;\n",
       "    }\n",
       "\n",
       "    .dataframe thead tr th {\n",
       "        text-align: left;\n",
       "    }\n",
       "</style>\n",
       "<table border=\"1\" class=\"dataframe\">\n",
       "  <thead>\n",
       "    <tr>\n",
       "      <th></th>\n",
       "      <th>Year(s) Under Review</th>\n",
       "      <th colspan=\"3\" halign=\"left\">1972</th>\n",
       "      <th colspan=\"3\" halign=\"left\">1973</th>\n",
       "      <th colspan=\"3\" halign=\"left\">1974</th>\n",
       "      <th>...</th>\n",
       "      <th>2021</th>\n",
       "      <th colspan=\"3\" halign=\"left\">2022</th>\n",
       "      <th colspan=\"3\" halign=\"left\">2023</th>\n",
       "      <th colspan=\"3\" halign=\"left\">2024</th>\n",
       "    </tr>\n",
       "    <tr>\n",
       "      <th></th>\n",
       "      <th>Countries</th>\n",
       "      <th>PR</th>\n",
       "      <th>CL</th>\n",
       "      <th>Status</th>\n",
       "      <th>PR</th>\n",
       "      <th>CL</th>\n",
       "      <th>Status</th>\n",
       "      <th>PR</th>\n",
       "      <th>CL</th>\n",
       "      <th>Status</th>\n",
       "      <th>...</th>\n",
       "      <th>Status</th>\n",
       "      <th>PR</th>\n",
       "      <th>CL</th>\n",
       "      <th>Status</th>\n",
       "      <th>PR</th>\n",
       "      <th>CL</th>\n",
       "      <th>Status</th>\n",
       "      <th>PR</th>\n",
       "      <th>CL</th>\n",
       "      <th>Status</th>\n",
       "    </tr>\n",
       "  </thead>\n",
       "  <tbody>\n",
       "    <tr>\n",
       "      <th>count</th>\n",
       "      <td>205</td>\n",
       "      <td>205</td>\n",
       "      <td>205</td>\n",
       "      <td>205</td>\n",
       "      <td>205</td>\n",
       "      <td>205</td>\n",
       "      <td>205</td>\n",
       "      <td>205</td>\n",
       "      <td>205</td>\n",
       "      <td>205</td>\n",
       "      <td>...</td>\n",
       "      <td>205</td>\n",
       "      <td>205</td>\n",
       "      <td>205</td>\n",
       "      <td>205</td>\n",
       "      <td>205</td>\n",
       "      <td>205</td>\n",
       "      <td>205</td>\n",
       "      <td>205</td>\n",
       "      <td>205</td>\n",
       "      <td>205</td>\n",
       "    </tr>\n",
       "    <tr>\n",
       "      <th>unique</th>\n",
       "      <td>205</td>\n",
       "      <td>9</td>\n",
       "      <td>9</td>\n",
       "      <td>5</td>\n",
       "      <td>8</td>\n",
       "      <td>8</td>\n",
       "      <td>4</td>\n",
       "      <td>8</td>\n",
       "      <td>8</td>\n",
       "      <td>4</td>\n",
       "      <td>...</td>\n",
       "      <td>4</td>\n",
       "      <td>8</td>\n",
       "      <td>8</td>\n",
       "      <td>4</td>\n",
       "      <td>8</td>\n",
       "      <td>8</td>\n",
       "      <td>4</td>\n",
       "      <td>8</td>\n",
       "      <td>8</td>\n",
       "      <td>4</td>\n",
       "    </tr>\n",
       "    <tr>\n",
       "      <th>top</th>\n",
       "      <td>Zimbabwe</td>\n",
       "      <td>-</td>\n",
       "      <td>-</td>\n",
       "      <td>NF</td>\n",
       "      <td>-</td>\n",
       "      <td>-</td>\n",
       "      <td>NF</td>\n",
       "      <td>-</td>\n",
       "      <td>-</td>\n",
       "      <td>NF</td>\n",
       "      <td>...</td>\n",
       "      <td>F</td>\n",
       "      <td>1</td>\n",
       "      <td>1</td>\n",
       "      <td>F</td>\n",
       "      <td>1</td>\n",
       "      <td>1</td>\n",
       "      <td>F</td>\n",
       "      <td>1</td>\n",
       "      <td>1</td>\n",
       "      <td>F</td>\n",
       "    </tr>\n",
       "    <tr>\n",
       "      <th>freq</th>\n",
       "      <td>1</td>\n",
       "      <td>56</td>\n",
       "      <td>56</td>\n",
       "      <td>68</td>\n",
       "      <td>55</td>\n",
       "      <td>55</td>\n",
       "      <td>65</td>\n",
       "      <td>53</td>\n",
       "      <td>53</td>\n",
       "      <td>63</td>\n",
       "      <td>...</td>\n",
       "      <td>83</td>\n",
       "      <td>47</td>\n",
       "      <td>47</td>\n",
       "      <td>84</td>\n",
       "      <td>47</td>\n",
       "      <td>46</td>\n",
       "      <td>83</td>\n",
       "      <td>47</td>\n",
       "      <td>45</td>\n",
       "      <td>85</td>\n",
       "    </tr>\n",
       "  </tbody>\n",
       "</table>\n",
       "<p>4 rows × 157 columns</p>\n",
       "</div>"
      ],
      "text/plain": [
       "       Year(s) Under Review 1972             1973             1974       \\\n",
       "                  Countries   PR  CL  Status   PR  CL  Status   PR  CL    \n",
       "count                   205  205  205    205  205  205    205  205  205   \n",
       "unique                  205    9    9      5    8    8      4    8    8   \n",
       "top                Zimbabwe    -    -     NF    -    -     NF    -    -   \n",
       "freq                      1   56   56     68   55   55     65   53   53   \n",
       "\n",
       "               ...   2021 2022             2023             2024              \n",
       "       Status  ... Status   PR   CL Status   PR   CL Status   PR   CL Status  \n",
       "count     205  ...    205  205  205    205  205  205    205  205  205    205  \n",
       "unique      4  ...      4    8    8      4    8    8      4    8    8      4  \n",
       "top        NF  ...      F    1    1      F    1    1      F    1    1      F  \n",
       "freq       63  ...     83   47   47     84   47   46     83   47   45     85  \n",
       "\n",
       "[4 rows x 157 columns]"
      ]
     },
     "metadata": {},
     "output_type": "display_data"
    }
   ],
   "source": [
    "display(df.describe())"
   ]
  },
  {
   "cell_type": "code",
   "execution_count": 6,
   "id": "b9b47a24-45e3-4ed0-b5b8-7aa12f9d4bf9",
   "metadata": {},
   "outputs": [
    {
     "name": "stdout",
     "output_type": "stream",
     "text": [
      "Index(['Year(s) Under Review Countries', '1972 PR', '1972 CL', '1972 Status',\n",
      "       '1973 PR', '1973 CL', '1973 Status', '1974 PR', '1974 CL',\n",
      "       '1974 Status',\n",
      "       ...\n",
      "       '2021 Status', '2022 PR', '2022 CL', '2022 Status', '2023 PR',\n",
      "       '2023 CL', '2023 Status', '2024 PR', '2024 CL', '2024 Status'],\n",
      "      dtype='object', length=157)\n"
     ]
    }
   ],
   "source": [
    "new_columns = []\n",
    "\n",
    "for col in df.columns.values:\n",
    "    column_name = ' '.join(map(str, col)).strip()\n",
    "    new_columns.append(column_name)\n",
    "df.columns = new_columns\n",
    "\n",
    "print(df.columns)\n"
   ]
  },
  {
   "cell_type": "code",
   "execution_count": 8,
   "id": "bef4a21b-21ca-4c57-ab3b-5ddb3857cc99",
   "metadata": {},
   "outputs": [
    {
     "name": "stdout",
     "output_type": "stream",
     "text": [
      "Index(['Countries', '1972 PR', '1972 CL', '1972 Status', '1973 PR', '1973 CL',\n",
      "       '1973 Status', '1974 PR', '1974 CL', '1974 Status',\n",
      "       ...\n",
      "       '2021 Status', '2022 PR', '2022 CL', '2022 Status', '2023 PR',\n",
      "       '2023 CL', '2023 Status', '2024 PR', '2024 CL', '2024 Status'],\n",
      "      dtype='object', length=157)\n"
     ]
    }
   ],
   "source": [
    "df.columns.values[0] = 'Countries'\n",
    "print(df.columns)"
   ]
  },
  {
   "cell_type": "code",
   "execution_count": null,
   "id": "ba4d785e-42b1-4a7e-8cfe-dc889e84bd87",
   "metadata": {},
   "outputs": [
    {
     "name": "stdout",
     "output_type": "stream",
     "text": [
      "['Countries', '1972 PR', '1972 CL', '1972 Status', '1973 PR', '1973 CL', '1973 Status', '1974 PR', '1974 CL', '1974 Status', '1975 PR', '1975 CL', '1975 Status', '1976 PR', '1976 CL', '1976 Status', '1977 PR', '1977 CL', '1977 Status', '1978 PR', '1978 CL', '1978 Status', '1979 PR', '1979 CL', '1979 Status', '1980 PR', '1980 CL', '1980 Status', 'Jan.1981-Aug. 1982 PR', 'Jan.1981-Aug. 1982 CL', 'Jan.1981-Aug. 1982 Status', 'Aug.1982-Nov.1983 PR', 'Aug.1982-Nov.1983 CL', 'Aug.1982-Nov.1983 Status', 'Nov.1983-Nov.1984 PR', 'Nov.1983-Nov.1984 CL', 'Nov.1983-Nov.1984 Status', 'Nov.1984-Nov.1985 PR', 'Nov.1984-Nov.1985 CL', 'Nov.1984-Nov.1985 Status', 'Nov.1985-Nov.1986 PR', 'Nov.1985-Nov.1986 CL', 'Nov.1985-Nov.1986 Status', 'Nov.1986-Nov.1987 PR', 'Nov.1986-Nov.1987 CL', 'Nov.1986-Nov.1987 Status', 'Nov.1987-Nov.1988 PR', 'Nov.1987-Nov.1988 CL', 'Nov.1987-Nov.1988 Status', 'Nov.1988-Dec.1989 PR', 'Nov.1988-Dec.1989 CL', 'Nov.1988-Dec.1989 Status', '1990 PR', '1990 CL', '1990 Status', '1991 PR', '1991 CL', '1991 Status', '1992 PR', '1992 CL', '1992 Status', '1993 PR', '1993 CL', '1993 Status', '1994 PR', '1994 CL', '1994 Status', '1995 PR', '1995 CL', '1995 Status', '1996 PR', '1996 CL', '1996 Status', '1997 PR', '1997 CL', '1997 Status', '1998 PR', '1998 CL', '1998 Status', '1999 PR', '1999 CL', '1999 Status', '2000 PR', '2000 CL', '2000 Status', '2001 PR', '2001 CL', '2001 Status', '2002 PR', '2002 CL', '2002 Status', '2003 PR', '2003 CL', '2003 Status', '2004 PR', '2004 CL', '2004 Status', '2005 PR', '2005 CL', '2005 Status', '2006 PR', '2006 CL', '2006 Status', '2007 PR', '2007 CL', '2007 Status', '2008 PR', '2008 CL', '2008 Status', '2009 PR', '2009 CL', '2009 Status', '2010 PR', '2010 CL', '2010 Status', '2011 PR', '2011 CL', '2011 Status', '2012 PR', '2012 CL', '2012 Status', '2013 PR', '2013 CL', '2013 Status', '2014 PR', '2014 CL', '2014 Status', '2015 PR', '2015 CL', '2015 Status', '2016 PR', '2016 CL', '2016 Status', '2017 PR', '2017 CL', '2017 Status', '2018 PR', '2018 CL', '2018 Status', '2019 PR', '2019 CL', '2019 Status', '2020 PR', '2020 CL', '2020 Status', '2021 PR', '2021 CL', '2021 Status', '2022 PR', '2022 CL', '2022 Status', '2023 PR', '2023 CL', '2023 Status', '2024 PR', '2024 CL', '2024 Status']\n"
     ]
    }
   ],
   "source": [
    "\n",
    "df.columns = df.columns.str.strip()\n",
    "\n",
    "\n",
    "print(df.columns.tolist())  \n",
    "\n",
    "\n",
    "df.rename(columns={df.columns[0]: \"Countries\"}, inplace=True)\n"
   ]
  },
  {
   "cell_type": "code",
   "execution_count": 12,
   "id": "ba6ce764-5f4b-45ee-b56e-d5e1b8903bb3",
   "metadata": {},
   "outputs": [],
   "source": [
    "data = []\n",
    "for column in df.columns[1:]:\n",
    "    if \".\" in column:\n",
    "        year = column.split(\".\")[1]\n",
    "    elif column[:4].isdigit():\n",
    "        year = column[:4]\n"
   ]
  },
  {
   "cell_type": "code",
   "execution_count": 14,
   "id": "401cad5d-2855-4f14-ac94-a0ea7acf24ab",
   "metadata": {},
   "outputs": [
    {
     "ename": "NameError",
     "evalue": "name 'df_long' is not defined",
     "output_type": "error",
     "traceback": [
      "\u001b[0;31m---------------------------------------------------------------------------\u001b[0m",
      "\u001b[0;31mNameError\u001b[0m                                 Traceback (most recent call last)",
      "Cell \u001b[0;32mIn[14], line 1\u001b[0m\n\u001b[0;32m----> 1\u001b[0m clean_df \u001b[38;5;241m=\u001b[39m df_long\u001b[38;5;241m.\u001b[39mdrop(df_long[df_long[\u001b[38;5;124m\"\u001b[39m\u001b[38;5;124mMetric\u001b[39m\u001b[38;5;124m\"\u001b[39m] \u001b[38;5;241m!=\u001b[39m \u001b[38;5;124m\"\u001b[39m\u001b[38;5;124mCL\u001b[39m\u001b[38;5;124m\"\u001b[39m]\u001b[38;5;241m.\u001b[39mindex)\n\u001b[1;32m      2\u001b[0m clean_df \u001b[38;5;241m=\u001b[39m clean_df\u001b[38;5;241m.\u001b[39mdrop(clean_df[clean_df[\u001b[38;5;124m\"\u001b[39m\u001b[38;5;124mScore\u001b[39m\u001b[38;5;124m\"\u001b[39m] \u001b[38;5;241m!=\u001b[39m \u001b[38;5;124m\"\u001b[39m\u001b[38;5;124m-\u001b[39m\u001b[38;5;124m\"\u001b[39m]\u001b[38;5;241m.\u001b[39mindex)\n",
      "\u001b[0;31mNameError\u001b[0m: name 'df_long' is not defined"
     ]
    }
   ],
   "source": []
  },
  {
   "cell_type": "code",
   "execution_count": null,
   "id": "bd895d57-de9e-461c-a4db-e5d49d186ac0",
   "metadata": {},
   "outputs": [
    {
     "name": "stdout",
     "output_type": "stream",
     "text": [
      "          Country  Year Metric Score\n",
      "0     Afghanistan  1972     PR     4\n",
      "1         Albania  1972     PR     7\n",
      "2         Algeria  1972     PR     6\n",
      "3         Andorra  1972     PR     4\n",
      "4          Angola  1972     PR     -\n",
      "...           ...   ...    ...   ...\n",
      "1495      Finland  1974     CL     2\n",
      "1496       France  1974     CL     2\n",
      "1497        Gabon  1974     CL     6\n",
      "1498      Georgia  1974     CL     -\n",
      "1499      Germany  1974     CL     -\n",
      "\n",
      "[1500 rows x 4 columns]\n"
     ]
    }
   ],
   "source": [
    "data = [] \n",
    "\n",
    "years = sorted(set(col.split()[0] for col in df.columns if col.split()[0].isdigit()))\n",
    "\n",
    "for year in years:  \n",
    "    for metric in ['PR', 'CL', 'Status']:  \n",
    "        for i, country in enumerate(df['Countries']):  \n",
    "            column_name = f'{year} {metric}'  \n",
    "            if column_name in df.columns:  \n",
    "                value = df[column_name].iloc[i]\n",
    "                data.append([country, int(year), metric, value])  \n",
    "\n",
    "\n",
    "df_long = pd.DataFrame(data, columns=['Country', 'Year', 'Metric', 'Score'])\n",
    "\n",
    "df_long['Year'] = df_long['Year'].astype(int) \n",
    "\n",
    "print(df_long.head(1500))  \n"
   ]
  },
  {
   "cell_type": "code",
   "execution_count": 22,
   "id": "af4c4619",
   "metadata": {},
   "outputs": [
    {
     "name": "stdout",
     "output_type": "stream",
     "text": [
      "          Country  Year Metric Score\n",
      "205   Afghanistan  1972     CL     5\n",
      "206       Albania  1972     CL     7\n",
      "207       Algeria  1972     CL     6\n",
      "208       Andorra  1972     CL     3\n",
      "211     Argentina  1972     CL     3\n",
      "...           ...   ...    ...   ...\n",
      "5859   Mozambique  1990     CL     6\n",
      "5860      Myanmar  1990     CL     7\n",
      "5861      Namibia  1990     CL     3\n",
      "5862        Nauru  1990     CL     2\n",
      "5863        Nepal  1990     CL     4\n",
      "\n",
      "[1500 rows x 4 columns]\n"
     ]
    }
   ],
   "source": [
    "clean_df = df_long.drop(df_long[df_long[\"Metric\"] != \"CL\"].index)\n",
    "clean_df = clean_df.drop(clean_df[clean_df[\"Score\"] == \"-\"].index)\n",
    "\n",
    "print(clean_df.head(1500))"
   ]
  },
  {
   "cell_type": "code",
   "execution_count": 24,
   "id": "951ceb87-7746-45a7-bf9a-17ebb560f886",
   "metadata": {},
   "outputs": [],
   "source": [
    "clean_df.to_csv(\"cleaned_countryscore_data.csv\", index = False)"
   ]
  }
 ],
 "metadata": {
  "kernelspec": {
   "display_name": "Python 3 (ipykernel)",
   "language": "python",
   "name": "python3"
  },
  "language_info": {
   "codemirror_mode": {
    "name": "ipython",
    "version": 3
   },
   "file_extension": ".py",
   "mimetype": "text/x-python",
   "name": "python",
   "nbconvert_exporter": "python",
   "pygments_lexer": "ipython3",
   "version": "3.12.4"
  }
 },
 "nbformat": 4,
 "nbformat_minor": 5
}
